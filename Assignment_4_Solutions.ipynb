{
 "cells": [
  {
   "cell_type": "markdown",
   "metadata": {},
   "source": [
    "## Task:1 (Question:1)\n",
    "Write a function to find moving average in an array over a window: Test it over [3, 5, 7, 2, 8, 10, 11, 65, 72, 81, 99, 100, 150] and window of 3"
   ]
  },
  {
   "cell_type": "code",
   "execution_count": 1,
   "metadata": {},
   "outputs": [
    {
     "name": "stdout",
     "output_type": "stream",
     "text": [
      "The moving average values for the given list are :  [5.0, 4.66667, 5.66667, 6.66667, 9.66667, 28.66667, 49.33333, 72.66667, 84.0, 93.33333, 116.33333]\n"
     ]
    }
   ],
   "source": [
    "def movingavgcal(given_list,n,k):\n",
    "    for i in range(n-k+1):                         # output range = n-k+1 i.e, (13-3+1) = 11\n",
    "        temp = 0\n",
    "        for j in range(i,i+k):\n",
    "            temp = temp + given_list[j]\n",
    "        avg = temp/k\n",
    "        moving_avg_values.append(round(avg,5))\n",
    "    \n",
    "given_list = [3,5,7,2,8,10,11,65,72,81,99,100,150]    # mylist = Input list\n",
    "k = 3                                             # k = given window range\n",
    "n = len(given_list)                                   # n = length of the given list\n",
    "moving_avg_values = []                            # moving_avg_values = output list of averages\n",
    "movingavgcal(given_list,n,k)                          # Function to calculate the moving averages\n",
    "\n",
    "print(\"The moving average values for the given list are : \",moving_avg_values)"
   ]
  },
  {
   "cell_type": "markdown",
   "metadata": {},
   "source": [
    "## Task:2 (Question:1)\n",
    "How-to-count-distance-to-the-previous-zero For each value, count the difference back to the previous zero (or the start of the Series, whichever is closer). create a new column 'Y' Consider a DataFrame df where there is an integer column 'X' import pandas as pd df = pd.DataFrame({'X': [7, 2, 0, 3, 4, 2, 5, 0, 3, 4]})"
   ]
  },
  {
   "cell_type": "code",
   "execution_count": 2,
   "metadata": {
    "scrolled": true
   },
   "outputs": [
    {
     "data": {
      "text/html": [
       "<div>\n",
       "<style scoped>\n",
       "    .dataframe tbody tr th:only-of-type {\n",
       "        vertical-align: middle;\n",
       "    }\n",
       "\n",
       "    .dataframe tbody tr th {\n",
       "        vertical-align: top;\n",
       "    }\n",
       "\n",
       "    .dataframe thead th {\n",
       "        text-align: right;\n",
       "    }\n",
       "</style>\n",
       "<table border=\"1\" class=\"dataframe\">\n",
       "  <thead>\n",
       "    <tr style=\"text-align: right;\">\n",
       "      <th></th>\n",
       "      <th>X</th>\n",
       "      <th>Y</th>\n",
       "    </tr>\n",
       "  </thead>\n",
       "  <tbody>\n",
       "    <tr>\n",
       "      <th>0</th>\n",
       "      <td>7</td>\n",
       "      <td>1</td>\n",
       "    </tr>\n",
       "    <tr>\n",
       "      <th>1</th>\n",
       "      <td>2</td>\n",
       "      <td>2</td>\n",
       "    </tr>\n",
       "    <tr>\n",
       "      <th>2</th>\n",
       "      <td>0</td>\n",
       "      <td>0</td>\n",
       "    </tr>\n",
       "    <tr>\n",
       "      <th>3</th>\n",
       "      <td>3</td>\n",
       "      <td>1</td>\n",
       "    </tr>\n",
       "    <tr>\n",
       "      <th>4</th>\n",
       "      <td>4</td>\n",
       "      <td>2</td>\n",
       "    </tr>\n",
       "    <tr>\n",
       "      <th>5</th>\n",
       "      <td>2</td>\n",
       "      <td>3</td>\n",
       "    </tr>\n",
       "    <tr>\n",
       "      <th>6</th>\n",
       "      <td>5</td>\n",
       "      <td>4</td>\n",
       "    </tr>\n",
       "    <tr>\n",
       "      <th>7</th>\n",
       "      <td>0</td>\n",
       "      <td>0</td>\n",
       "    </tr>\n",
       "    <tr>\n",
       "      <th>8</th>\n",
       "      <td>3</td>\n",
       "      <td>1</td>\n",
       "    </tr>\n",
       "    <tr>\n",
       "      <th>9</th>\n",
       "      <td>4</td>\n",
       "      <td>2</td>\n",
       "    </tr>\n",
       "  </tbody>\n",
       "</table>\n",
       "</div>"
      ],
      "text/plain": [
       "   X  Y\n",
       "0  7  1\n",
       "1  2  2\n",
       "2  0  0\n",
       "3  3  1\n",
       "4  4  2\n",
       "5  2  3\n",
       "6  5  4\n",
       "7  0  0\n",
       "8  3  1\n",
       "9  4  2"
      ]
     },
     "execution_count": 2,
     "metadata": {},
     "output_type": "execute_result"
    }
   ],
   "source": [
    "import pandas as pd\n",
    "\n",
    "df = pd.DataFrame({'X': [7, 2, 0, 3, 4, 2, 5, 0, 3, 4]})\n",
    "\n",
    "#creating cumulative sum for the mask of X where value is equal to zero and then counting the indices from zeroth position\n",
    "df['Y'] =(df.X.groupby(df.X.eq(0).cumsum().mask(df.X.eq(0))).cumcount() + 1).mask(df.X.eq(0), 0)\n",
    "\n",
    "df #printing the output"
   ]
  },
  {
   "cell_type": "markdown",
   "metadata": {},
   "source": [
    "## Task-2 (Question:2)\n",
    "Create a DatetimeIndex that contains each business day of 2015 and use it to index a series of random numbers"
   ]
  },
  {
   "cell_type": "code",
   "execution_count": 3,
   "metadata": {},
   "outputs": [
    {
     "name": "stdout",
     "output_type": "stream",
     "text": [
      "Total no.of business days in 2015 are :  261\n",
      "-------------------------------------------------- \n",
      "The random series with the length of 2015 business days is :\n",
      "  2015-01-01    0.793966\n",
      "2015-01-02    0.157456\n",
      "2015-01-05    0.674942\n",
      "2015-01-06    0.859515\n",
      "2015-01-07    0.173368\n",
      "2015-01-08    0.490177\n",
      "2015-01-09    0.817942\n",
      "2015-01-12    0.562155\n",
      "2015-01-13    0.140357\n",
      "2015-01-14    0.674341\n",
      "2015-01-15    0.859400\n",
      "2015-01-16    0.657490\n",
      "2015-01-19    0.857799\n",
      "2015-01-20    0.700264\n",
      "2015-01-21    0.785821\n",
      "2015-01-22    0.863457\n",
      "2015-01-23    0.509104\n",
      "2015-01-26    0.879071\n",
      "2015-01-27    0.527427\n",
      "2015-01-28    0.086039\n",
      "2015-01-29    0.561376\n",
      "2015-01-30    0.946929\n",
      "2015-02-02    0.376512\n",
      "2015-02-03    0.863543\n",
      "2015-02-04    0.011386\n",
      "2015-02-05    0.395827\n",
      "2015-02-06    0.406375\n",
      "2015-02-09    0.629547\n",
      "2015-02-10    0.362934\n",
      "2015-02-11    0.562951\n",
      "                ...   \n",
      "2015-11-20    0.651949\n",
      "2015-11-23    0.917877\n",
      "2015-11-24    0.817135\n",
      "2015-11-25    0.638080\n",
      "2015-11-26    0.697737\n",
      "2015-11-27    0.578921\n",
      "2015-11-30    0.639413\n",
      "2015-12-01    0.947127\n",
      "2015-12-02    0.051371\n",
      "2015-12-03    0.569084\n",
      "2015-12-04    0.608742\n",
      "2015-12-07    0.547684\n",
      "2015-12-08    0.637553\n",
      "2015-12-09    0.622522\n",
      "2015-12-10    0.789566\n",
      "2015-12-11    0.754203\n",
      "2015-12-14    0.969584\n",
      "2015-12-15    0.683536\n",
      "2015-12-16    0.112935\n",
      "2015-12-17    0.592031\n",
      "2015-12-18    0.252226\n",
      "2015-12-21    0.726485\n",
      "2015-12-22    0.029487\n",
      "2015-12-23    0.925245\n",
      "2015-12-24    0.318577\n",
      "2015-12-25    0.764586\n",
      "2015-12-28    0.101873\n",
      "2015-12-29    0.500628\n",
      "2015-12-30    0.819135\n",
      "2015-12-31    0.172992\n",
      "Freq: B, Length: 261, dtype: float64\n"
     ]
    }
   ],
   "source": [
    "import pandas as pd\n",
    "import numpy as np\n",
    "\n",
    "business_day_range = pd.date_range(start='2015-01-01',end='2015-12-31',freq='B') # where 'B' represents business day\n",
    "print(\"Total no.of business days in 2015 are : \",len(business_day_range))\n",
    "\n",
    "s= pd.Series(np.random.rand(len(business_day_range)), index=business_day_range)\n",
    "print('-'*50,\"\\nThe random series with the length of 2015 business days is :\\n \",s)"
   ]
  },
  {
   "cell_type": "markdown",
   "metadata": {},
   "source": [
    "## Task:2 (Question:3)\n",
    "Find the sum of the values in s for every wednesday"
   ]
  },
  {
   "cell_type": "code",
   "execution_count": 4,
   "metadata": {},
   "outputs": [
    {
     "name": "stdout",
     "output_type": "stream",
     "text": [
      "The sum of the random values for all wednesday in the DataTiemIndex range 's' is:  26.27175867134399\n"
     ]
    }
   ],
   "source": [
    "# The weekday index range from (0 to 6) where '0' for  sunday ,'1' for monday... and '6' for saturday\n",
    "\n",
    "sum_of_wednesday = s[business_day_range.weekday == 2].sum()\n",
    "\n",
    "print(\"The sum of the random values for all wednesday in the DataTiemIndex range 's' is: \", sum_of_wednesday)"
   ]
  },
  {
   "cell_type": "markdown",
   "metadata": {},
   "source": [
    "## Task:2 (Question:4)\n",
    "Average for each calendar month"
   ]
  },
  {
   "cell_type": "code",
   "execution_count": 5,
   "metadata": {},
   "outputs": [
    {
     "name": "stdout",
     "output_type": "stream",
     "text": [
      "The average of random numbers from the generated series 's' is :\n",
      " 2015-01-31    0.617200\n",
      "2015-02-28    0.492008\n",
      "2015-03-31    0.483252\n",
      "2015-04-30    0.461369\n",
      "2015-05-31    0.661025\n",
      "2015-06-30    0.502625\n",
      "2015-07-31    0.450980\n",
      "2015-08-31    0.473521\n",
      "2015-09-30    0.614829\n",
      "2015-10-31    0.668888\n",
      "2015-11-30    0.645203\n",
      "2015-12-31    0.543355\n",
      "Freq: M, dtype: float64\n"
     ]
    }
   ],
   "source": [
    "#calculating the averages for individual months in the DateTineIndex range 's' where 'M' is the freq denotion of month\n",
    "\n",
    "avg_for_each_cal_month = s.resample('M').mean()\n",
    "\n",
    "print(\"The average of random numbers from the generated series 's' is :\\n\", avg_for_each_cal_month)"
   ]
  },
  {
   "cell_type": "markdown",
   "metadata": {},
   "source": [
    "## Task:3 (Question:5)\n",
    "For each group of four consecutive calendar months in s, find the date on which the highest value occurred"
   ]
  },
  {
   "cell_type": "code",
   "execution_count": 6,
   "metadata": {},
   "outputs": [
    {
     "data": {
      "text/plain": [
       "2015-01-31   2015-01-30\n",
       "2015-05-31   2015-05-08\n",
       "2015-09-30   2015-08-19\n",
       "2016-01-31   2015-10-08\n",
       "dtype: datetime64[ns]"
      ]
     },
     "execution_count": 6,
     "metadata": {},
     "output_type": "execute_result"
    }
   ],
   "source": [
    "s.groupby(pd.Grouper(freq='4M')).idxmax()"
   ]
  }
 ],
 "metadata": {
  "kernelspec": {
   "display_name": "Python 3",
   "language": "python",
   "name": "python3"
  },
  "language_info": {
   "codemirror_mode": {
    "name": "ipython",
    "version": 3
   },
   "file_extension": ".py",
   "mimetype": "text/x-python",
   "name": "python",
   "nbconvert_exporter": "python",
   "pygments_lexer": "ipython3",
   "version": "3.6.5"
  }
 },
 "nbformat": 4,
 "nbformat_minor": 2
}
